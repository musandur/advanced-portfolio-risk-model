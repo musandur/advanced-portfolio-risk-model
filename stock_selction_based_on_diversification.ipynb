{
 "cells": [
  {
   "cell_type": "markdown",
   "metadata": {},
   "source": [
    "# Intro\n",
    "\n",
    "Given a group of preselected stocks, find the optimal subgroup that exhibits the smallest risk.\n",
    "\n",
    "Two approaches are suggested: \n",
    "\n",
    "- Sign entropy approach: It consists of considering each subgroup of stocks, calculate the sign entropy of their factor exposures, search for the maximum of sign entropy's mean. It is an approach justified by the fact that most diversified stocks tend to have contrasting factor exposures in terms of sign. So the sign entropy measure the extend to which factor exposures have contrasted signs.  \n",
    "\n",
    "$$\\text{sign entropy} = - \\left( p_+  log (p_+)  + p_- log (p_-) \\right)$$\n",
    "$p_\\pm$ are the proportions of postive/negative factor exposures for a given risk facor.\n",
    "\n",
    "For example, the Market risk in the fama and french model will most likely always have zero sign entropy, as all the factor exposures are positive. \n",
    "\n",
    "The aim is to thus find as high entropy as possible for a given set of stocks. Indeed, the higher the entropy, the more diversely exposed are our stocks for the given risk factors.\n",
    "\n",
    "\n",
    "- Variance approach: A natural approach that consists of findind the "
   ]
  },
  {
   "cell_type": "code",
   "execution_count": null,
   "metadata": {},
   "outputs": [],
   "source": []
  },
  {
   "cell_type": "code",
   "execution_count": null,
   "metadata": {},
   "outputs": [],
   "source": [
    "import yahooquery as yq"
   ]
  },
  {
   "cell_type": "code",
   "execution_count": null,
   "metadata": {},
   "outputs": [],
   "source": [
    "from import_and_clean_historic_data import select_and_process_historical_data\n",
    "\n",
    "universe = select_and_process_historical_data(filename='HISTORIC_PRICES.csv', number_stocks=25)\n",
    "print(universe.head())\n",
    "print(universe.tail())\n",
    "print('\\n')\n",
    "print(universe.info())"
   ]
  },
  {
   "cell_type": "code",
   "execution_count": null,
   "metadata": {},
   "outputs": [],
   "source": []
  },
  {
   "cell_type": "code",
   "execution_count": null,
   "metadata": {},
   "outputs": [],
   "source": []
  },
  {
   "cell_type": "code",
   "execution_count": null,
   "metadata": {},
   "outputs": [],
   "source": []
  }
 ],
 "metadata": {
  "language_info": {
   "name": "python"
  }
 },
 "nbformat": 4,
 "nbformat_minor": 2
}
